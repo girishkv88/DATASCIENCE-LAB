{
  "nbformat": 4,
  "nbformat_minor": 0,
  "metadata": {
    "colab": {
      "provenance": []
    },
    "kernelspec": {
      "name": "python3",
      "display_name": "Python 3"
    },
    "language_info": {
      "name": "python"
    }
  },
  "cells": [
    {
      "cell_type": "markdown",
      "source": [
        "1 changing dimension of an array"
      ],
      "metadata": {
        "id": "mPRMWXm9dYYL"
      }
    },
    {
      "cell_type": "code",
      "execution_count": null,
      "metadata": {
        "colab": {
          "base_uri": "https://localhost:8080/"
        },
        "id": "OzJDMug9fa_6",
        "outputId": "7d235619-bca8-4f58-b7d5-53a8de1de268"
      },
      "outputs": [
        {
          "output_type": "stream",
          "name": "stdout",
          "text": [
            "initial array  [1 2 3 4 5 6 7 8 9]\n",
            "After dimension change array  [[1 2 3]\n",
            " [4 5 6]\n",
            " [7 8 9]]\n",
            " array into list  [[1, 2, 3], [4, 5, 6], [7, 8, 9]]\n"
          ]
        }
      ],
      "source": [
        "import numpy as np\n",
        "x=np.array([1,2,3,4,5,6,7,8,9])\n",
        "print(\"initial array \",x)\n",
        "x.shape=[3,3]\n",
        "print(\"After dimension change array \",x)\n",
        "y=x.tolist()\n",
        "print(\" array into list \",y)"
      ]
    },
    {
      "cell_type": "code",
      "source": [],
      "metadata": {
        "id": "9do6u2m2dVVO"
      },
      "execution_count": null,
      "outputs": []
    },
    {
      "cell_type": "markdown",
      "source": [
        "2. create and update null numpy array"
      ],
      "metadata": {
        "id": "1APZqixbdIDz"
      }
    },
    {
      "cell_type": "code",
      "source": [
        "x=np.zeros(10)\n",
        "print(x)\n",
        "print(\"Update the 6th value to 11\")\n",
        "x[6]=11\n",
        "print(x)\n"
      ],
      "metadata": {
        "colab": {
          "base_uri": "https://localhost:8080/"
        },
        "id": "YeUm0Fkvgcpp",
        "outputId": "9b74d378-20ab-4289-dae6-daa7b8f380d4"
      },
      "execution_count": null,
      "outputs": [
        {
          "output_type": "stream",
          "name": "stdout",
          "text": [
            "[0. 0. 0. 0. 0. 0. 0. 0. 0. 0.]\n",
            "Update the 6th value to 11\n",
            "[ 0.  0.  0.  0.  0.  0. 11.  0.  0.  0.]\n"
          ]
        }
      ]
    },
    {
      "cell_type": "code",
      "source": [],
      "metadata": {
        "id": "WWuugaZzhV63"
      },
      "execution_count": null,
      "outputs": []
    },
    {
      "cell_type": "markdown",
      "source": [
        "exersise 1\n",
        "3.element wise comparison"
      ],
      "metadata": {
        "id": "dWHXUyeAhri9"
      }
    },
    {
      "cell_type": "code",
      "source": [
        "import numpy as np\n",
        "x = np.array([[12,13],[7,8]])\n",
        "y = np.array([[1,23],[17,4]])\n",
        "print(\"campare x with y \")\n",
        "print(\"\\nGreater\")\n",
        "print(np.greater(x,y))\n",
        "print(\"\\nGreater_Equal\")\n",
        "print(np.greater_equal(x,y))\n",
        "print(\"\\nlesser\")\n",
        "print(np.less(x,y))\n",
        "print(\"\\nless_equall\")\n",
        "print(np.less_equal(x,y))"
      ],
      "metadata": {
        "colab": {
          "base_uri": "https://localhost:8080/"
        },
        "id": "rBFjKvf_h1O4",
        "outputId": "d2db376d-f037-423d-c0c3-0a1fcc91d8f9"
      },
      "execution_count": null,
      "outputs": [
        {
          "output_type": "stream",
          "name": "stdout",
          "text": [
            "campare x with y \n",
            "\n",
            "Greater\n",
            "[[ True False]\n",
            " [False  True]]\n",
            "\n",
            "Greater_Equal\n",
            "[[ True False]\n",
            " [False  True]]\n",
            "\n",
            "lesser\n",
            "[[False  True]\n",
            " [ True False]]\n",
            "\n",
            "less_equall\n",
            "[[False  True]\n",
            " [ True False]]\n"
          ]
        }
      ]
    },
    {
      "cell_type": "markdown",
      "source": [
        "\n",
        "\n",
        "```\n",
        "# This is formatted as code\n",
        "```\n",
        "\n",
        "4.array creation\n",
        "\n",
        "array of all even numbers between10 and 30 "
      ],
      "metadata": {
        "id": "sRMlk_0pj1v_"
      }
    },
    {
      "cell_type": "code",
      "source": [
        "import numpy as np\n",
        "x=np.arange(10,60,2)\n",
        "print(\"array of all even numbers between10 and 30  \")\n",
        "print(x)"
      ],
      "metadata": {
        "id": "I_OgCMTCjdlF",
        "colab": {
          "base_uri": "https://localhost:8080/"
        },
        "outputId": "53eda7a3-ee70-4132-8fe8-2952fce81f4e"
      },
      "execution_count": null,
      "outputs": [
        {
          "output_type": "stream",
          "name": "stdout",
          "text": [
            "array of all even numbers between10 and 30  \n",
            "[10 12 14 16 18 20 22 24 26 28 30 32 34 36 38 40 42 44 46 48 50 52 54 56\n",
            " 58]\n"
          ]
        }
      ]
    },
    {
      "cell_type": "markdown",
      "source": [
        "5.Identity matrix"
      ],
      "metadata": {
        "id": "qqLUkUOglGJg"
      }
    },
    {
      "cell_type": "code",
      "source": [
        "import numpy as np\n",
        "x=np.identity(3)\n",
        "print(\"3X3 matrix \\n\")\n",
        "print(x)"
      ],
      "metadata": {
        "colab": {
          "base_uri": "https://localhost:8080/"
        },
        "id": "rGaGa9yQlMwf",
        "outputId": "396ecb40-04b1-49af-f6ce-1604bbe1de0c"
      },
      "execution_count": null,
      "outputs": [
        {
          "output_type": "stream",
          "name": "stdout",
          "text": [
            "3X3 matric \n",
            "\n",
            "[[1. 0. 0.]\n",
            " [0. 1. 0.]\n",
            " [0. 0. 1.]]\n"
          ]
        }
      ]
    },
    {
      "cell_type": "markdown",
      "source": [
        "6.array to the textv file"
      ],
      "metadata": {
        "id": "A_zQZnxylnBE"
      }
    },
    {
      "cell_type": "code",
      "source": [
        "import numpy as np\n",
        "import os\n",
        "x= np.arange(4).reshape(2,2)\n",
        "print(x)\n",
        "\n",
        "header ='col1 col2'\n",
        "np.savetxt('temp.txt',x,fmt=\"%d\",header=header)\n",
        "result=np.loadtxt('temp.txt')\n",
        "print(result)"
      ],
      "metadata": {
        "colab": {
          "base_uri": "https://localhost:8080/"
        },
        "id": "WADYAYNXlxpe",
        "outputId": "803573cd-ead8-4a3c-ff69-34773f65569e"
      },
      "execution_count": null,
      "outputs": [
        {
          "output_type": "stream",
          "name": "stdout",
          "text": [
            "[[0 1]\n",
            " [2 3]]\n",
            "[[0. 1.]\n",
            " [2. 3.]]\n"
          ]
        }
      ]
    },
    {
      "cell_type": "markdown",
      "source": [
        "7.Array Equality"
      ],
      "metadata": {
        "id": "gcuyH7RBnFYx"
      }
    },
    {
      "cell_type": "code",
      "source": [
        "import numpy as np\n",
        "x=np.array([12,14])\n",
        "y=np.array([16,14])\n",
        "result = np.equal(x,y)\n",
        "print(result)"
      ],
      "metadata": {
        "colab": {
          "base_uri": "https://localhost:8080/"
        },
        "id": "9npiEToHnUQ3",
        "outputId": "1ef94b88-d046-4eaf-e642-846511caad13"
      },
      "execution_count": null,
      "outputs": [
        {
          "output_type": "stream",
          "name": "stdout",
          "text": [
            "[False  True]\n"
          ]
        }
      ]
    },
    {
      "cell_type": "markdown",
      "source": [
        "Exersise 2 \n",
        "\n",
        "8.Matrix operation-dot product  of a matrix"
      ],
      "metadata": {
        "id": "DnOnuJ-XnxCB"
      }
    },
    {
      "cell_type": "code",
      "source": [
        "import numpy as np\n",
        "\n",
        "print(\"Enter the elements of 1st matrix 2X2\")\n",
        "\n",
        "elements=list(map(int,input().split()));\n",
        "a=np.array(elements).reshape(2,2);\n",
        "\n",
        "print(\"Enter the elements of 2nd matrix 2X2\")\n",
        "elements=list(map(int,input().split()));\n",
        "b=np.array(elements).reshape(2,2);\n",
        "\n",
        "print(a)\n",
        "print(b)\n",
        "\n",
        "np.dot(a,b)\n"
      ],
      "metadata": {
        "colab": {
          "base_uri": "https://localhost:8080/"
        },
        "id": "Yu0UM3SXn-Vs",
        "outputId": "f44f2aa8-0cbc-4e92-f957-d23cbf33cab2"
      },
      "execution_count": null,
      "outputs": [
        {
          "output_type": "stream",
          "name": "stdout",
          "text": [
            "Enter the elements of 1st matrix 2X2\n",
            "1 2 3 1\n",
            "Enter the elements of 2nd matrix 2X2\n",
            "1 2 3 1\n",
            "[[1 2]\n",
            " [3 1]]\n",
            "[[1 2]\n",
            " [3 1]]\n"
          ]
        },
        {
          "output_type": "execute_result",
          "data": {
            "text/plain": [
              "array([[7, 4],\n",
              "       [6, 7]])"
            ]
          },
          "metadata": {},
          "execution_count": 13
        }
      ]
    },
    {
      "cell_type": "markdown",
      "source": [
        "9. TRANSPOSE of matrix"
      ],
      "metadata": {
        "id": "jC7oq9x7pnWI"
      }
    },
    {
      "cell_type": "code",
      "source": [
        "\n",
        "import numpy as np\n",
        "a=np.arange(6).reshape(2,3)\n",
        "print('first matrix')\n",
        "print(a)\n",
        "\n",
        "b=np.transpose(a)\n",
        "print('transpose matrix')\n",
        "print(b)\n",
        "\n"
      ],
      "metadata": {
        "colab": {
          "base_uri": "https://localhost:8080/"
        },
        "id": "lxf_ZsCypzIt",
        "outputId": "d3f6a262-41ea-468e-b044-2182a76ff414"
      },
      "execution_count": null,
      "outputs": [
        {
          "output_type": "stream",
          "name": "stdout",
          "text": [
            "first matrix\n",
            "[[0 1 2]\n",
            " [3 4 5]]\n",
            "transpose matrix\n",
            "[[0 3]\n",
            " [1 4]\n",
            " [2 5]]\n"
          ]
        }
      ]
    },
    {
      "cell_type": "markdown",
      "source": [
        "10.Trace of matrix"
      ],
      "metadata": {
        "id": "EQmDkC3rqwvD"
      }
    },
    {
      "cell_type": "code",
      "source": [
        "import numpy as np\n",
        "a=np.arange(9).reshape(3,3)\n",
        "print('first matrix')\n",
        "print(a)\n",
        "\n",
        "b=np.trace(a)\n",
        "print('trace of matrix ie sum of diagonal elmt')\n",
        "print(b)"
      ],
      "metadata": {
        "colab": {
          "base_uri": "https://localhost:8080/"
        },
        "id": "mvilcUR1qwLk",
        "outputId": "4eccc6df-70d6-402b-ee42-7ceaa963a4d2"
      },
      "execution_count": null,
      "outputs": [
        {
          "output_type": "stream",
          "name": "stdout",
          "text": [
            "first matrix\n",
            "[[0 1 2]\n",
            " [3 4 5]\n",
            " [6 7 8]]\n",
            "transpose matrix\n",
            "12\n"
          ]
        }
      ]
    },
    {
      "cell_type": "markdown",
      "source": [
        "11.Rank of matrix"
      ],
      "metadata": {
        "id": "NZ5YG-h_rPDu"
      }
    },
    {
      "cell_type": "code",
      "source": [
        "import numpy as np\n",
        "a=np.arange(16).reshape(4,4)\n",
        "print('first matrix')\n",
        "print(a)\n",
        "\n",
        "b=np.linalg.matrix_rank(a)\n",
        "print('rank matrix no of linearly independant column')\n",
        "print(b)"
      ],
      "metadata": {
        "colab": {
          "base_uri": "https://localhost:8080/"
        },
        "id": "rZ_OVdewrUnT",
        "outputId": "0579957f-685a-421c-eb28-a01d13e5a251"
      },
      "execution_count": null,
      "outputs": [
        {
          "output_type": "stream",
          "name": "stdout",
          "text": [
            "first matrix\n",
            "[[ 0  1  2  3]\n",
            " [ 4  5  6  7]\n",
            " [ 8  9 10 11]\n",
            " [12 13 14 15]]\n",
            "rank matrix \n",
            "2\n"
          ]
        }
      ]
    },
    {
      "cell_type": "markdown",
      "source": [
        "12.Determinent of matrix"
      ],
      "metadata": {
        "id": "fXJfXlgjtV3W"
      }
    },
    {
      "cell_type": "code",
      "source": [
        "import numpy as np\n",
        "a=np.array([[22,30],[56,89]])\n",
        "print(\"determinent of matrix\")\n",
        "print(np.linalg.det(a))"
      ],
      "metadata": {
        "colab": {
          "base_uri": "https://localhost:8080/"
        },
        "id": "PPd7SP0ytaR1",
        "outputId": "46dad3f5-e3d5-4d1c-9efd-436bc8e16ecb"
      },
      "execution_count": null,
      "outputs": [
        {
          "output_type": "stream",
          "name": "stdout",
          "text": [
            "determinent of matrix\n",
            "278.00000000000017\n"
          ]
        }
      ]
    },
    {
      "cell_type": "markdown",
      "source": [
        "13.INVERSE of matrix"
      ],
      "metadata": {
        "id": "x72iCbtdu2So"
      }
    },
    {
      "cell_type": "code",
      "source": [
        "import numpy as np\n",
        "a=np.array([[4,3],[3,2]])\n",
        "print(\"inverse of matrix\")\n",
        "b=np.linalg.inv(a)\n",
        "print(a)\n",
        "print(b)"
      ],
      "metadata": {
        "colab": {
          "base_uri": "https://localhost:8080/"
        },
        "id": "3QGh3sOOu7fd",
        "outputId": "fe8e9ddf-00da-465b-9d61-e56bbf76fc7c"
      },
      "execution_count": null,
      "outputs": [
        {
          "output_type": "stream",
          "name": "stdout",
          "text": [
            "inverse of matrix\n",
            "[[4 3]\n",
            " [3 2]]\n",
            "[[-2.  3.]\n",
            " [ 3. -4.]]\n"
          ]
        }
      ]
    },
    {
      "cell_type": "markdown",
      "source": [
        "14.Eigon values and Eigon vectors"
      ],
      "metadata": {
        "id": "IrDQzuZdwufV"
      }
    },
    {
      "cell_type": "code",
      "source": [
        "import numpy as np\n",
        "from numpy.linalg import eig\n",
        "a=np.array([[4,3],[3,2]])\n",
        "print(\"inverse of matrix\")\n",
        "val,vec=eig(a)\n",
        "print(\"eigon value\",val)\n",
        "print(\"Eigon vector\",vec)"
      ],
      "metadata": {
        "colab": {
          "base_uri": "https://localhost:8080/"
        },
        "id": "IAVngv6yxCbM",
        "outputId": "bf5ee9b3-6881-4813-d6a5-c15aad4bf276"
      },
      "execution_count": null,
      "outputs": [
        {
          "output_type": "stream",
          "name": "stdout",
          "text": [
            "inverse of matrix\n",
            "eigon value [ 6.16227766 -0.16227766]\n",
            "Eigon vector [[ 0.81124219 -0.58471028]\n",
            " [ 0.58471028  0.81124219]]\n"
          ]
        }
      ]
    },
    {
      "cell_type": "markdown",
      "source": [
        "exersise 3\n",
        "\n",
        "15.line diagram using matplot lib\n"
      ],
      "metadata": {
        "id": "ji1koW9jzT0Z"
      }
    },
    {
      "cell_type": "markdown",
      "source": [
        "\n"
      ],
      "metadata": {
        "id": "_K_tbgTzyVfp"
      }
    },
    {
      "cell_type": "code",
      "source": [
        "import matplotlib.pyplot as plt\n",
        "import numpy as np\n",
        "xpoint=np.array([1,2,4,16])\n",
        "ypoint=np.array([3,12,10,16])\n",
        "plt.plot(xpoint,ypoint,marker='o',color='r',linestyle=':',mfc='r',mec='g',ms='13')"
      ],
      "metadata": {
        "colab": {
          "base_uri": "https://localhost:8080/",
          "height": 282
        },
        "id": "UY7tIkPuzRl5",
        "outputId": "a288b89a-6afa-4db6-e6af-060145908d40"
      },
      "execution_count": null,
      "outputs": [
        {
          "output_type": "execute_result",
          "data": {
            "text/plain": [
              "[<matplotlib.lines.Line2D at 0x7f1bcc720070>]"
            ]
          },
          "metadata": {},
          "execution_count": 48
        },
        {
          "output_type": "display_data",
          "data": {
            "text/plain": [
              "<Figure size 432x288 with 1 Axes>"
            ],
            "image/png": "[encoded data removed]"
          },
          "metadata": {
            "needs_background": "light"
          }
        }
      ]
    },
    {
      "cell_type": "markdown",
      "source": [],
      "metadata": {
        "id": "to3F8Vk913UY"
      }
    },
    {
      "cell_type": "markdown",
      "source": [
        "16. draw plot diagram for following data (table given temp and sales)\n"
      ],
      "metadata": {
        "id": "RBj4Eewo_kJF"
      }
    },
    {
      "cell_type": "markdown",
      "source": [],
      "metadata": {
        "id": "4-q1m_c1_j9Y"
      }
    },
    {
      "cell_type": "code",
      "source": [
        "import matplotlib.pyplot as plt\n",
        "import numpy as np\n",
        "\n",
        "xpoints = np.array([12,14,16,18,20,22,24])\n",
        "ypoints = np.array([100,200,250,400,300,450,500])\n",
        "\n",
        "plt.plot(xpoints, ypoints,marker = 'o',color=\"red\",mec = 'g', mfc = 'g',linestyle = 'dotted')\n",
        "plt.show()"
      ],
      "metadata": {
        "colab": {
          "base_uri": "https://localhost:8080/",
          "height": 265
        },
        "id": "sx4mtoX1_5Jw",
        "outputId": "ec99451c-fd27-4ba1-87a5-ee5309192d0f"
      },
      "execution_count": null,
      "outputs": [
        {
          "output_type": "display_data",
          "data": {
            "text/plain": [
              "<Figure size 432x288 with 1 Axes>"
            ],
            "image/png": "[encoded data removed]"
          },
          "metadata": {
            "needs_background": "light"
          }
        }
      ]
    },
    {
      "cell_type": "markdown",
      "source": [
        "17. [LINE DIGRAM USING TEXT FILE]\n",
        "python pgm to draw a line using axis values from text file."
      ],
      "metadata": {
        "id": "7EXaaA1_OGWn"
      }
    },
    {
      "cell_type": "code",
      "source": [
        "import matplotlib.pyplot as plt\n",
        "\n",
        "with open(\"3_data.txt\") as f:\n",
        "    data = f.read()\n",
        "    \n",
        "data = data.split('\\n')\n",
        "\n",
        "x = [row.split(' ')[0] for row in data]\n",
        "y = [row.split(' ')[1] for row in data]\n",
        "plt.plot(x, y)\n",
        "\n",
        "plt.xlabel('x axis')\n",
        "plt.ylabel('y axis')\n",
        "plt.title('graph')\n",
        "plt.show()\n"
      ],
      "metadata": {
        "colab": {
          "base_uri": "https://localhost:8080/",
          "height": 236
        },
        "id": "aZnd3xasOF_r",
        "outputId": "b537e994-733e-4110-baea-35e563582959"
      },
      "execution_count": null,
      "outputs": [
        {
          "output_type": "error",
          "ename": "FileNotFoundError",
          "evalue": "ignored",
          "traceback": [
            "\u001b[0;31m---------------------------------------------------------------------------\u001b[0m",
            "\u001b[0;31mFileNotFoundError\u001b[0m                         Traceback (most recent call last)",
            "\u001b[0;32m<ipython-input-4-d7a8d5827445>\u001b[0m in \u001b[0;36m<module>\u001b[0;34m\u001b[0m\n\u001b[1;32m      1\u001b[0m \u001b[0;32mimport\u001b[0m \u001b[0mmatplotlib\u001b[0m\u001b[0;34m.\u001b[0m\u001b[0mpyplot\u001b[0m \u001b[0;32mas\u001b[0m \u001b[0mplt\u001b[0m\u001b[0;34m\u001b[0m\u001b[0;34m\u001b[0m\u001b[0m\n\u001b[1;32m      2\u001b[0m \u001b[0;34m\u001b[0m\u001b[0m\n\u001b[0;32m----> 3\u001b[0;31m \u001b[0;32mwith\u001b[0m \u001b[0mopen\u001b[0m\u001b[0;34m(\u001b[0m\u001b[0;34m\"3_data.txt\"\u001b[0m\u001b[0;34m)\u001b[0m \u001b[0;32mas\u001b[0m \u001b[0mf\u001b[0m\u001b[0;34m:\u001b[0m\u001b[0;34m\u001b[0m\u001b[0;34m\u001b[0m\u001b[0m\n\u001b[0m\u001b[1;32m      4\u001b[0m     \u001b[0mdata\u001b[0m \u001b[0;34m=\u001b[0m \u001b[0mf\u001b[0m\u001b[0;34m.\u001b[0m\u001b[0mread\u001b[0m\u001b[0;34m(\u001b[0m\u001b[0;34m)\u001b[0m\u001b[0;34m\u001b[0m\u001b[0;34m\u001b[0m\u001b[0m\n\u001b[1;32m      5\u001b[0m \u001b[0;34m\u001b[0m\u001b[0m\n",
            "\u001b[0;31mFileNotFoundError\u001b[0m: [Errno 2] No such file or directory: '3_data.txt'"
          ]
        }
      ]
    },
    {
      "cell_type": "markdown",
      "source": [
        "18 Multiple lines on same plot"
      ],
      "metadata": {
        "id": "wzrz2V51Qvgx"
      }
    },
    {
      "cell_type": "markdown",
      "source": [],
      "metadata": {
        "id": "V-H1uHjDQoGj"
      }
    },
    {
      "cell_type": "code",
      "source": [
        "import matplotlib.pyplot as plt\n",
        "\n",
        "\n",
        "x1 = [10,20,30]\n",
        "y1 = [10,20,30]\n",
        "plt.plot(x1, y1, label = \"line 1\")\n",
        "\n",
        "x2 = [30,40,50]\n",
        "y2 = [30,40,50]\n",
        "plt.plot(x2, y2, label = \"line 2\")\n",
        "\n",
        "plt.xlabel('x axis')\n",
        "plt.ylabel('y axis')\n",
        "\n",
        "plt.title('Two Line plot')\n",
        "\n",
        "plt.legend()\n",
        "plt.show()\n"
      ],
      "metadata": {
        "colab": {
          "base_uri": "https://localhost:8080/",
          "height": 295
        },
        "id": "10Puq8OCQfzq",
        "outputId": "8f894cc4-046b-484c-f5a0-389e08840edb"
      },
      "execution_count": null,
      "outputs": [
        {
          "output_type": "display_data",
          "data": {
            "text/plain": [
              "<Figure size 432x288 with 1 Axes>"
            ],
            "image/png": "[encoded data removed]"
          },
          "metadata": {
            "needs_background": "light"
          }
        }
      ]
    },
    {
      "cell_type": "markdown",
      "source": [
        "19 - create** multiple plots**"
      ],
      "metadata": {
        "id": "S3szPy37RMZ8"
      }
    },
    {
      "cell_type": "code",
      "source": [
        "import matplotlib.pyplot as plt\n",
        "\n",
        "figure, axis = plt.subplots(1,2)\n",
        "\n",
        "dt=0.01\n",
        "x1 = [10,20,30]\n",
        "y1 = [10,20,30]\n",
        "axis[0].plot(x1,y1)\n",
        "#axis[0,0].plot(x1,y1)\n",
        "axis[0].set_title(\"Plot 1\")\n",
        "\n",
        "x2 = [10,10,10]\n",
        "y2 = [30,40,50]\n",
        "axis[1].plot(x2, y2)\n",
        "#axis[0,1].plot(x2, y2)\n",
        "axis[1].set_title(\"Plot 2\")\n",
        "\n",
        "#figure.tight_layout()\n",
        "plt.show()\n"
      ],
      "metadata": {
        "colab": {
          "base_uri": "https://localhost:8080/",
          "height": 281
        },
        "id": "gaZHfkguRVcM",
        "outputId": "5e8dbe70-be10-47f6-9a13-5d4dffb5c5fd"
      },
      "execution_count": null,
      "outputs": [
        {
          "output_type": "display_data",
          "data": {
            "text/plain": [
              "<Figure size 432x288 with 2 Axes>"
            ],
            "image/png": "[encoded data removed]"
          },
          "metadata": {
            "needs_background": "light"
          }
        }
      ]
    },
    {
      "cell_type": "markdown",
      "source": [
        "EXTRA >>>>>>>>>>>>>\n",
        "Consider the following data.\n",
        "Programming languages: Java  Python  PHP  JavaScript  C#  C++\n",
        "Popularity             22.2  17.6    8.8  8           77  6.7\n",
        "\n",
        "(i) Write a Python programming to display a** bar chart**\n",
        "    of the popularity of programming Languages."
      ],
      "metadata": {
        "id": "KIGBdywxRoZx"
      }
    },
    {
      "cell_type": "code",
      "source": [
        "import numpy as np\n",
        "import matplotlib.pyplot as plt\n",
        "\n",
        "\n",
        "# creating the dataset\n",
        "data = {'Java':22.2, 'Python':17.6, 'PHP':8.8,'JavaScript':8,'C#':77,'C++':6.7}\n",
        "\n",
        "courses = list(data.keys())\n",
        "values = list(data.values())\n",
        "\n",
        "fig = plt.figure(figsize = (10, 5))\n",
        "\n",
        "# creating the bar plot\n",
        "plt.bar(courses, values, color ='maroon',width = 0.4)\n",
        "\n",
        "plt.xlabel(\"Programming languages\")\n",
        "plt.ylabel(\"Popularity\")\n",
        "plt.title(\"Popularity of Programming languages\")\n",
        "plt.show()\n"
      ],
      "metadata": {
        "colab": {
          "base_uri": "https://localhost:8080/",
          "height": 350
        },
        "id": "9YvQ8nEeRoFL",
        "outputId": "c16459d8-e0d9-4d45-9fc8-f7ca0b27adcb"
      },
      "execution_count": null,
      "outputs": [
        {
          "output_type": "display_data",
          "data": {
            "text/plain": [
              "<Figure size 720x360 with 1 Axes>"
            ],
            "image/png": "[encoded data removed]"
          },
          "metadata": {
            "needs_background": "light"
          }
        }
      ]
    },
    {
      "cell_type": "markdown",
      "source": [
        "EXTRAAA>>>>>>>>>\n",
        "Write a Python program to create** bar plot** of\n",
        "scores by group and gender. Use multiple X values on \n",
        "the same chart for men and women.\n",
        "\n",
        "Sample Data:\n",
        "Means (men) = (22, 30, 35, 35, 26)\n",
        "Means (women) = (25, 32, 30, 35, 29)\n"
      ],
      "metadata": {
        "id": "J2Kh7dyZSFs1"
      }
    },
    {
      "cell_type": "code",
      "source": [
        "import numpy as np\n",
        "import matplotlib.pyplot as plt\n",
        "\n",
        "y1 = [22,30,35,35,26]\n",
        "y2 = [25,32,30,35,29]\n",
        "x_labels = ['G1','G2','G3','G4','G5']\n",
        "x1 = np.arange(5)\n",
        "width = 0.40\n",
        "\n",
        "plt.bar(x1-0.2,y1,color=\"green\",width=width,label='Men')\n",
        "plt.bar(x1+0.2,y2,color=\"red\",width=width,label='Women')\n",
        "plt.xticks(x1,x_labels)\n",
        "\n",
        "\n",
        "\n",
        "plt.xlabel(\"Person\")\n",
        "plt.ylabel(\"Scores\")\n",
        "plt.legend()\n",
        "\n",
        "plt.title(\"scores by group and gender\")\n",
        "plt.show()"
      ],
      "metadata": {
        "colab": {
          "base_uri": "https://localhost:8080/",
          "height": 295
        },
        "id": "KSKRMu_ASIpi",
        "outputId": "94eeaa2a-6d2f-40bf-a440-bffe636c9baa"
      },
      "execution_count": null,
      "outputs": [
        {
          "output_type": "display_data",
          "data": {
            "text/plain": [
              "<Figure size 432x288 with 1 Axes>"
            ],
            "image/png": "[encoded data removed]"
          },
          "metadata": {
            "needs_background": "light"
          }
        }
      ]
    },
    {
      "cell_type": "markdown",
      "source": [
        "EXTRAA\n",
        " Write a Python programming to create a **pie chart**\n",
        "   of the popularity of programming Languages.\n",
        "\n",
        "   \n",
        "Programming languages: Java Python PHP JavaScript C# C++\n",
        "Popularity           : 22.2 17.6   8.8 8          7.7 6.7"
      ],
      "metadata": {
        "id": "M_rCVkXeSRLL"
      }
    },
    {
      "cell_type": "code",
      "source": [
        "import matplotlib.pyplot as plt\n",
        "import numpy as np\n",
        "\n",
        "y = np.array([22.2,17.6,8.8,8,7.7,6.7])\n",
        "mylabels = [\"Java\", \"Python\", \"PHP\", \"JavaScript\", \"C#\", \"C++\"]\n",
        "\n",
        "plt.pie(y, labels = mylabels)\n",
        "plt.show() \n"
      ],
      "metadata": {
        "colab": {
          "base_uri": "https://localhost:8080/",
          "height": 248
        },
        "id": "p8BOLZmYSaDg",
        "outputId": "b8dd73d7-541a-4395-ebab-42ffdacff542"
      },
      "execution_count": null,
      "outputs": [
        {
          "output_type": "display_data",
          "data": {
            "text/plain": [
              "<Figure size 432x288 with 1 Axes>"
            ],
            "image/png": "[encoded data removed]"
          },
          "metadata": {}
        }
      ]
    },
    {
      "cell_type": "markdown",
      "source": [
        "programm 20\n",
        "\n",
        "**SCATTER PLOT**\n",
        "Write a Python program to draw a scatter plot comparing two subject\n",
        "marks of Mathematics and \n",
        "Science. Use marks of 10 students.\n",
        "\n",
        "Sample data:\n",
        "Test Data:\n",
        "\n",
        "math_marks = [88, 92, 80, 89, 100, 80, 60, 100, 80, 34]\n",
        "science_marks = [35, 79, 79, 48, 100, 88, 32, 45, 20, 30]\n",
        "marks_range = [10, 20, 30, 40, 50, 60, 70, 80, 90, 100]"
      ],
      "metadata": {
        "id": "OwkT0dmsSekE"
      }
    },
    {
      "cell_type": "code",
      "source": [
        "\n",
        "import matplotlib.pyplot as plt\n",
        "\n",
        "x = [10, 20, 30, 40, 50, 60, 70, 80, 90, 100]\n",
        "m = [88, 92, 80, 89, 100, 80, 60, 100, 80, 34]\n",
        "s = [35, 79, 79, 48, 100, 88, 32, 45, 20, 30]\n",
        "\n",
        "plt.scatter(x, m,label=\"maths marks\")\n",
        "plt.scatter(x, s,label=\"science marks\")\n",
        "plt.legend(loc='upper right')\n",
        "\n",
        "plt.xlabel(\"Marks Range\")\n",
        "plt.ylabel(\"Marks Scored\")\n",
        "plt.title(\"Scatter plot\")\n",
        "plt.show() "
      ],
      "metadata": {
        "colab": {
          "base_uri": "https://localhost:8080/",
          "height": 295
        },
        "id": "802xuBK8TCTs",
        "outputId": "73b4fdd3-4fed-404d-88cb-3511a52e2721"
      },
      "execution_count": null,
      "outputs": [
        {
          "output_type": "display_data",
          "data": {
            "text/plain": [
              "<Figure size 432x288 with 1 Axes>"
            ],
            "image/png": "[encoded data removed]"
          },
          "metadata": {
            "needs_background": "light"
          }
        }
      ]
    },
    {
      "cell_type": "markdown",
      "source": [
        " **PANDAAASSS**\n",
        "\n",
        "\n",
        "\n"
      ],
      "metadata": {
        "id": "Zy_eebhUTOSh"
      }
    },
    {
      "cell_type": "markdown",
      "source": [
        "\"\"\"\n",
        "21. Write a python program to implement List-to-Series Conversion\n",
        "\n",
        "\"\"\"\n",
        "\n"
      ],
      "metadata": {
        "id": "XC5gcuwKTfzd"
      }
    },
    {
      "cell_type": "code",
      "source": [
        "\n",
        "import pandas as pd\n",
        "\n",
        "names = ['a','b','c']\n",
        "x = pd.Series(names)\n",
        "print(names)\n"
      ],
      "metadata": {
        "colab": {
          "base_uri": "https://localhost:8080/"
        },
        "id": "1wpX_Dn_TtFy",
        "outputId": "217b141a-18a2-4912-d702-385cec422d43"
      },
      "execution_count": null,
      "outputs": [
        {
          "output_type": "stream",
          "name": "stdout",
          "text": [
            "['a', 'b', 'c']\n"
          ]
        }
      ]
    },
    {
      "cell_type": "markdown",
      "source": [
        "\"\"\"\n",
        "22. Write a python program to Generate the series of dates from\n",
        "1st May, 2021 to 12th May, 2021 (both inclusive).\n",
        "\n",
        "\"\"\"\n",
        "\n"
      ],
      "metadata": {
        "id": "9FIcFW60Twfr"
      }
    },
    {
      "cell_type": "code",
      "source": [
        "\n",
        "import pandas as pd\n",
        "\n",
        "sr = pd.Series(pd.date_range('2021-05-01','2021-05-12',freq = 'D'))\n",
        "# To avoid dtype\n",
        "# Series.to_string\n",
        "print(sr.to_string(index=False))"
      ],
      "metadata": {
        "colab": {
          "base_uri": "https://localhost:8080/"
        },
        "id": "c9BdedRTT4xu",
        "outputId": "9b5a89a0-4990-45ae-e5b3-61cb5b68bb41"
      },
      "execution_count": null,
      "outputs": [
        {
          "output_type": "stream",
          "name": "stdout",
          "text": [
            "2021-05-01\n",
            "2021-05-02\n",
            "2021-05-03\n",
            "2021-05-04\n",
            "2021-05-05\n",
            "2021-05-06\n",
            "2021-05-07\n",
            "2021-05-08\n",
            "2021-05-09\n",
            "2021-05-10\n",
            "2021-05-11\n",
            "2021-05-12\n"
          ]
        }
      ]
    },
    {
      "cell_type": "markdown",
      "source": [
        "23. Given a dictionary, convert it into\n",
        "corresponding dataframe and display it.\n",
        "\n",
        "\"\"\"\n"
      ],
      "metadata": {
        "id": "7APyhA6UT7iB"
      }
    },
    {
      "cell_type": "code",
      "source": [
        "\n",
        "\n",
        "import pandas as pd\n",
        "\n",
        "details = {\n",
        "    'Name' : ['a','b','c','d'],\n",
        "    'Age' : [24,25,26,27],\n",
        "}\n",
        "  \n",
        "\n",
        "df = pd.DataFrame(details)\n",
        "  \n",
        "print(df)\n"
      ],
      "metadata": {
        "colab": {
          "base_uri": "https://localhost:8080/"
        },
        "id": "Fajo_2H6UJL2",
        "outputId": "64843898-0b1f-4fae-d809-6258f0828128"
      },
      "execution_count": null,
      "outputs": [
        {
          "output_type": "stream",
          "name": "stdout",
          "text": [
            "  Name  Age\n",
            "0    a   24\n",
            "1    b   25\n",
            "2    c   26\n",
            "3    d   27\n"
          ]
        }
      ]
    },
    {
      "cell_type": "markdown",
      "source": [
        "24 Given a 2D List, convert it into corresponding dataframe and display it.\n",
        "\n",
        "\"\"\"\n",
        "\n",
        "\n"
      ],
      "metadata": {
        "id": "yu3QO0jBTnpL"
      }
    },
    {
      "cell_type": "code",
      "source": [
        "\n",
        "import pandas as pd\n",
        "\n",
        "details = [[1,2],[3,4]]\n",
        "  \n",
        "df = pd.DataFrame(details)\n",
        "  \n",
        "print(df)"
      ],
      "metadata": {
        "colab": {
          "base_uri": "https://localhost:8080/"
        },
        "id": "0BYTz6BPUyEJ",
        "outputId": "3e489782-c862-4bb5-b10a-e25f08ba5042"
      },
      "execution_count": null,
      "outputs": [
        {
          "output_type": "stream",
          "name": "stdout",
          "text": [
            "   0  1\n",
            "0  1  2\n",
            "1  3  4\n"
          ]
        }
      ]
    },
    {
      "cell_type": "markdown",
      "source": [
        "\"\"\"\n",
        "25. Given a CSV file, read it into a dataframe and display it.\n",
        "\n",
        "\"\"\"\n",
        "\n",
        "\n"
      ],
      "metadata": {
        "id": "_fXwJJRyVE2P"
      }
    },
    {
      "cell_type": "code",
      "source": [
        "import pandas as pd\n",
        "\n",
        "df = pd.read_csv('5_Pandas.csv')\n",
        "\n",
        "print(df.to_string()) \n"
      ],
      "metadata": {
        "colab": {
          "base_uri": "https://localhost:8080/",
          "height": 399
        },
        "id": "nZaPjiurVG5E",
        "outputId": "3325baa3-38a4-4560-c3ad-e9c27300b051"
      },
      "execution_count": null,
      "outputs": [
        {
          "output_type": "error",
          "ename": "FileNotFoundError",
          "evalue": "ignored",
          "traceback": [
            "\u001b[0;31m---------------------------------------------------------------------------\u001b[0m",
            "\u001b[0;31mFileNotFoundError\u001b[0m                         Traceback (most recent call last)",
            "\u001b[0;32m<ipython-input-17-d8bb2759169d>\u001b[0m in \u001b[0;36m<module>\u001b[0;34m\u001b[0m\n\u001b[1;32m      1\u001b[0m \u001b[0;32mimport\u001b[0m \u001b[0mpandas\u001b[0m \u001b[0;32mas\u001b[0m \u001b[0mpd\u001b[0m\u001b[0;34m\u001b[0m\u001b[0;34m\u001b[0m\u001b[0m\n\u001b[1;32m      2\u001b[0m \u001b[0;34m\u001b[0m\u001b[0m\n\u001b[0;32m----> 3\u001b[0;31m \u001b[0mdf\u001b[0m \u001b[0;34m=\u001b[0m \u001b[0mpd\u001b[0m\u001b[0;34m.\u001b[0m\u001b[0mread_csv\u001b[0m\u001b[0;34m(\u001b[0m\u001b[0;34m'5_Pandas.csv'\u001b[0m\u001b[0;34m)\u001b[0m\u001b[0;34m\u001b[0m\u001b[0;34m\u001b[0m\u001b[0m\n\u001b[0m\u001b[1;32m      4\u001b[0m \u001b[0;34m\u001b[0m\u001b[0m\n\u001b[1;32m      5\u001b[0m \u001b[0mprint\u001b[0m\u001b[0;34m(\u001b[0m\u001b[0mdf\u001b[0m\u001b[0;34m.\u001b[0m\u001b[0mto_string\u001b[0m\u001b[0;34m(\u001b[0m\u001b[0;34m)\u001b[0m\u001b[0;34m)\u001b[0m\u001b[0;34m\u001b[0m\u001b[0;34m\u001b[0m\u001b[0m\n",
            "\u001b[0;32m/usr/local/lib/python3.8/dist-packages/pandas/util/_decorators.py\u001b[0m in \u001b[0;36mwrapper\u001b[0;34m(*args, **kwargs)\u001b[0m\n\u001b[1;32m    309\u001b[0m                     \u001b[0mstacklevel\u001b[0m\u001b[0;34m=\u001b[0m\u001b[0mstacklevel\u001b[0m\u001b[0;34m,\u001b[0m\u001b[0;34m\u001b[0m\u001b[0;34m\u001b[0m\u001b[0m\n\u001b[1;32m    310\u001b[0m                 )\n\u001b[0;32m--> 311\u001b[0;31m             \u001b[0;32mreturn\u001b[0m \u001b[0mfunc\u001b[0m\u001b[0;34m(\u001b[0m\u001b[0;34m*\u001b[0m\u001b[0margs\u001b[0m\u001b[0;34m,\u001b[0m \u001b[0;34m**\u001b[0m\u001b[0mkwargs\u001b[0m\u001b[0;34m)\u001b[0m\u001b[0;34m\u001b[0m\u001b[0;34m\u001b[0m\u001b[0m\n\u001b[0m\u001b[1;32m    312\u001b[0m \u001b[0;34m\u001b[0m\u001b[0m\n\u001b[1;32m    313\u001b[0m         \u001b[0;32mreturn\u001b[0m \u001b[0mwrapper\u001b[0m\u001b[0;34m\u001b[0m\u001b[0;34m\u001b[0m\u001b[0m\n",
            "\u001b[0;32m/usr/local/lib/python3.8/dist-packages/pandas/io/parsers/readers.py\u001b[0m in \u001b[0;36mread_csv\u001b[0;34m(filepath_or_buffer, sep, delimiter, header, names, index_col, usecols, squeeze, prefix, mangle_dupe_cols, dtype, engine, converters, true_values, false_values, skipinitialspace, skiprows, skipfooter, nrows, na_values, keep_default_na, na_filter, verbose, skip_blank_lines, parse_dates, infer_datetime_format, keep_date_col, date_parser, dayfirst, cache_dates, iterator, chunksize, compression, thousands, decimal, lineterminator, quotechar, quoting, doublequote, escapechar, comment, encoding, encoding_errors, dialect, error_bad_lines, warn_bad_lines, on_bad_lines, delim_whitespace, low_memory, memory_map, float_precision, storage_options)\u001b[0m\n\u001b[1;32m    584\u001b[0m     \u001b[0mkwds\u001b[0m\u001b[0;34m.\u001b[0m\u001b[0mupdate\u001b[0m\u001b[0;34m(\u001b[0m\u001b[0mkwds_defaults\u001b[0m\u001b[0;34m)\u001b[0m\u001b[0;34m\u001b[0m\u001b[0;34m\u001b[0m\u001b[0m\n\u001b[1;32m    585\u001b[0m \u001b[0;34m\u001b[0m\u001b[0m\n\u001b[0;32m--> 586\u001b[0;31m     \u001b[0;32mreturn\u001b[0m \u001b[0m_read\u001b[0m\u001b[0;34m(\u001b[0m\u001b[0mfilepath_or_buffer\u001b[0m\u001b[0;34m,\u001b[0m \u001b[0mkwds\u001b[0m\u001b[0;34m)\u001b[0m\u001b[0;34m\u001b[0m\u001b[0;34m\u001b[0m\u001b[0m\n\u001b[0m\u001b[1;32m    587\u001b[0m \u001b[0;34m\u001b[0m\u001b[0m\n\u001b[1;32m    588\u001b[0m \u001b[0;34m\u001b[0m\u001b[0m\n",
            "\u001b[0;32m/usr/local/lib/python3.8/dist-packages/pandas/io/parsers/readers.py\u001b[0m in \u001b[0;36m_read\u001b[0;34m(filepath_or_buffer, kwds)\u001b[0m\n\u001b[1;32m    480\u001b[0m \u001b[0;34m\u001b[0m\u001b[0m\n\u001b[1;32m    481\u001b[0m     \u001b[0;31m# Create the parser.\u001b[0m\u001b[0;34m\u001b[0m\u001b[0;34m\u001b[0m\u001b[0;34m\u001b[0m\u001b[0m\n\u001b[0;32m--> 482\u001b[0;31m     \u001b[0mparser\u001b[0m \u001b[0;34m=\u001b[0m \u001b[0mTextFileReader\u001b[0m\u001b[0;34m(\u001b[0m\u001b[0mfilepath_or_buffer\u001b[0m\u001b[0;34m,\u001b[0m \u001b[0;34m**\u001b[0m\u001b[0mkwds\u001b[0m\u001b[0;34m)\u001b[0m\u001b[0;34m\u001b[0m\u001b[0;34m\u001b[0m\u001b[0m\n\u001b[0m\u001b[1;32m    483\u001b[0m \u001b[0;34m\u001b[0m\u001b[0m\n\u001b[1;32m    484\u001b[0m     \u001b[0;32mif\u001b[0m \u001b[0mchunksize\u001b[0m \u001b[0;32mor\u001b[0m \u001b[0miterator\u001b[0m\u001b[0;34m:\u001b[0m\u001b[0;34m\u001b[0m\u001b[0;34m\u001b[0m\u001b[0m\n",
            "\u001b[0;32m/usr/local/lib/python3.8/dist-packages/pandas/io/parsers/readers.py\u001b[0m in \u001b[0;36m__init__\u001b[0;34m(self, f, engine, **kwds)\u001b[0m\n\u001b[1;32m    809\u001b[0m             \u001b[0mself\u001b[0m\u001b[0;34m.\u001b[0m\u001b[0moptions\u001b[0m\u001b[0;34m[\u001b[0m\u001b[0;34m\"has_index_names\"\u001b[0m\u001b[0;34m]\u001b[0m \u001b[0;34m=\u001b[0m \u001b[0mkwds\u001b[0m\u001b[0;34m[\u001b[0m\u001b[0;34m\"has_index_names\"\u001b[0m\u001b[0;34m]\u001b[0m\u001b[0;34m\u001b[0m\u001b[0;34m\u001b[0m\u001b[0m\n\u001b[1;32m    810\u001b[0m \u001b[0;34m\u001b[0m\u001b[0m\n\u001b[0;32m--> 811\u001b[0;31m         \u001b[0mself\u001b[0m\u001b[0;34m.\u001b[0m\u001b[0m_engine\u001b[0m \u001b[0;34m=\u001b[0m \u001b[0mself\u001b[0m\u001b[0;34m.\u001b[0m\u001b[0m_make_engine\u001b[0m\u001b[0;34m(\u001b[0m\u001b[0mself\u001b[0m\u001b[0;34m.\u001b[0m\u001b[0mengine\u001b[0m\u001b[0;34m)\u001b[0m\u001b[0;34m\u001b[0m\u001b[0;34m\u001b[0m\u001b[0m\n\u001b[0m\u001b[1;32m    812\u001b[0m \u001b[0;34m\u001b[0m\u001b[0m\n\u001b[1;32m    813\u001b[0m     \u001b[0;32mdef\u001b[0m \u001b[0mclose\u001b[0m\u001b[0;34m(\u001b[0m\u001b[0mself\u001b[0m\u001b[0;34m)\u001b[0m\u001b[0;34m:\u001b[0m\u001b[0;34m\u001b[0m\u001b[0;34m\u001b[0m\u001b[0m\n",
            "\u001b[0;32m/usr/local/lib/python3.8/dist-packages/pandas/io/parsers/readers.py\u001b[0m in \u001b[0;36m_make_engine\u001b[0;34m(self, engine)\u001b[0m\n\u001b[1;32m   1038\u001b[0m             )\n\u001b[1;32m   1039\u001b[0m         \u001b[0;31m# error: Too many arguments for \"ParserBase\"\u001b[0m\u001b[0;34m\u001b[0m\u001b[0;34m\u001b[0m\u001b[0;34m\u001b[0m\u001b[0m\n\u001b[0;32m-> 1040\u001b[0;31m         \u001b[0;32mreturn\u001b[0m \u001b[0mmapping\u001b[0m\u001b[0;34m[\u001b[0m\u001b[0mengine\u001b[0m\u001b[0;34m]\u001b[0m\u001b[0;34m(\u001b[0m\u001b[0mself\u001b[0m\u001b[0;34m.\u001b[0m\u001b[0mf\u001b[0m\u001b[0;34m,\u001b[0m \u001b[0;34m**\u001b[0m\u001b[0mself\u001b[0m\u001b[0;34m.\u001b[0m\u001b[0moptions\u001b[0m\u001b[0;34m)\u001b[0m  \u001b[0;31m# type: ignore[call-arg]\u001b[0m\u001b[0;34m\u001b[0m\u001b[0;34m\u001b[0m\u001b[0m\n\u001b[0m\u001b[1;32m   1041\u001b[0m \u001b[0;34m\u001b[0m\u001b[0m\n\u001b[1;32m   1042\u001b[0m     \u001b[0;32mdef\u001b[0m \u001b[0m_failover_to_python\u001b[0m\u001b[0;34m(\u001b[0m\u001b[0mself\u001b[0m\u001b[0;34m)\u001b[0m\u001b[0;34m:\u001b[0m\u001b[0;34m\u001b[0m\u001b[0;34m\u001b[0m\u001b[0m\n",
            "\u001b[0;32m/usr/local/lib/python3.8/dist-packages/pandas/io/parsers/c_parser_wrapper.py\u001b[0m in \u001b[0;36m__init__\u001b[0;34m(self, src, **kwds)\u001b[0m\n\u001b[1;32m     49\u001b[0m \u001b[0;34m\u001b[0m\u001b[0m\n\u001b[1;32m     50\u001b[0m         \u001b[0;31m# open handles\u001b[0m\u001b[0;34m\u001b[0m\u001b[0;34m\u001b[0m\u001b[0;34m\u001b[0m\u001b[0m\n\u001b[0;32m---> 51\u001b[0;31m         \u001b[0mself\u001b[0m\u001b[0;34m.\u001b[0m\u001b[0m_open_handles\u001b[0m\u001b[0;34m(\u001b[0m\u001b[0msrc\u001b[0m\u001b[0;34m,\u001b[0m \u001b[0mkwds\u001b[0m\u001b[0;34m)\u001b[0m\u001b[0;34m\u001b[0m\u001b[0;34m\u001b[0m\u001b[0m\n\u001b[0m\u001b[1;32m     52\u001b[0m         \u001b[0;32massert\u001b[0m \u001b[0mself\u001b[0m\u001b[0;34m.\u001b[0m\u001b[0mhandles\u001b[0m \u001b[0;32mis\u001b[0m \u001b[0;32mnot\u001b[0m \u001b[0;32mNone\u001b[0m\u001b[0;34m\u001b[0m\u001b[0;34m\u001b[0m\u001b[0m\n\u001b[1;32m     53\u001b[0m \u001b[0;34m\u001b[0m\u001b[0m\n",
            "\u001b[0;32m/usr/local/lib/python3.8/dist-packages/pandas/io/parsers/base_parser.py\u001b[0m in \u001b[0;36m_open_handles\u001b[0;34m(self, src, kwds)\u001b[0m\n\u001b[1;32m    220\u001b[0m         \u001b[0mLet\u001b[0m \u001b[0mthe\u001b[0m \u001b[0mreaders\u001b[0m \u001b[0mopen\u001b[0m \u001b[0mIOHandles\u001b[0m \u001b[0mafter\u001b[0m \u001b[0mthey\u001b[0m \u001b[0mare\u001b[0m \u001b[0mdone\u001b[0m \u001b[0;32mwith\u001b[0m \u001b[0mtheir\u001b[0m \u001b[0mpotential\u001b[0m \u001b[0mraises\u001b[0m\u001b[0;34m.\u001b[0m\u001b[0;34m\u001b[0m\u001b[0;34m\u001b[0m\u001b[0m\n\u001b[1;32m    221\u001b[0m         \"\"\"\n\u001b[0;32m--> 222\u001b[0;31m         self.handles = get_handle(\n\u001b[0m\u001b[1;32m    223\u001b[0m             \u001b[0msrc\u001b[0m\u001b[0;34m,\u001b[0m\u001b[0;34m\u001b[0m\u001b[0;34m\u001b[0m\u001b[0m\n\u001b[1;32m    224\u001b[0m             \u001b[0;34m\"r\"\u001b[0m\u001b[0;34m,\u001b[0m\u001b[0;34m\u001b[0m\u001b[0;34m\u001b[0m\u001b[0m\n",
            "\u001b[0;32m/usr/local/lib/python3.8/dist-packages/pandas/io/common.py\u001b[0m in \u001b[0;36mget_handle\u001b[0;34m(path_or_buf, mode, encoding, compression, memory_map, is_text, errors, storage_options)\u001b[0m\n\u001b[1;32m    700\u001b[0m         \u001b[0;32mif\u001b[0m \u001b[0mioargs\u001b[0m\u001b[0;34m.\u001b[0m\u001b[0mencoding\u001b[0m \u001b[0;32mand\u001b[0m \u001b[0;34m\"b\"\u001b[0m \u001b[0;32mnot\u001b[0m \u001b[0;32min\u001b[0m \u001b[0mioargs\u001b[0m\u001b[0;34m.\u001b[0m\u001b[0mmode\u001b[0m\u001b[0;34m:\u001b[0m\u001b[0;34m\u001b[0m\u001b[0;34m\u001b[0m\u001b[0m\n\u001b[1;32m    701\u001b[0m             \u001b[0;31m# Encoding\u001b[0m\u001b[0;34m\u001b[0m\u001b[0;34m\u001b[0m\u001b[0;34m\u001b[0m\u001b[0m\n\u001b[0;32m--> 702\u001b[0;31m             handle = open(\n\u001b[0m\u001b[1;32m    703\u001b[0m                 \u001b[0mhandle\u001b[0m\u001b[0;34m,\u001b[0m\u001b[0;34m\u001b[0m\u001b[0;34m\u001b[0m\u001b[0m\n\u001b[1;32m    704\u001b[0m                 \u001b[0mioargs\u001b[0m\u001b[0;34m.\u001b[0m\u001b[0mmode\u001b[0m\u001b[0;34m,\u001b[0m\u001b[0;34m\u001b[0m\u001b[0;34m\u001b[0m\u001b[0m\n",
            "\u001b[0;31mFileNotFoundError\u001b[0m: [Errno 2] No such file or directory: '5_Pandas.csv'"
          ]
        }
      ]
    },
    {
      "cell_type": "markdown",
      "source": [
        "EXTRAA\n",
        "\n",
        "\"\"\"\n",
        "6. Given a dataframe, sort it by multiple columns.\n",
        "\n",
        "\"\"\"\n",
        "\n",
        "\n",
        "import pandas as pd\n",
        "\n",
        "df = pd.DataFrame({'Name': ['e','a','a','b','c','d'],\n",
        "                   'Age': [1,2,1,3,3,4],\n",
        "                   'Rank': [0,1,2,3,4,5]})\n",
        "\n",
        "print(df.to_string())\n",
        "\n",
        "print('SORTED DATAFRAME')\n",
        "df = df.sort_values(by=['Name','Age'], ascending=[True,True])\n",
        "\n",
        "print(df.to_string())\n",
        "\n",
        "\n",
        "7. Given a dataframe with custom indexing,\n",
        "   convert and it to default indexing and \n",
        "   display it.\n",
        "\n",
        "\n",
        "\"\"\"\n",
        "\n",
        "\n",
        "import pandas as pd\n",
        "\n",
        "data = {'Name': ['e','a','a','b','c','d'],\n",
        "                   'Age': [1,2,1,3,3,4],\n",
        "                   'Rank': [0,1,2,3,4,5]}\n",
        "\n",
        "index = {'a1', 'b1', 'c1', 'd1', 'e1','f1'}\n",
        "\n",
        "df = pd.DataFrame(data,index)\n",
        "#df.reset_index(inplace = True)\n",
        "print(df.to_string())\n",
        "df.reset_index(inplace = True, drop = True)\n",
        "print(df.to_string())\n",
        "\n",
        "\"\"\"\n",
        "11. Given is a dataframe showing Company Names (cname) and corresponding Profits \n",
        "(profit). Convert the values of Profit column such that values in it greater than 0 are \n",
        "set to True and the rest are set to False.\n",
        "\n",
        "\n",
        "\"\"\"\n",
        "\n",
        "\n",
        "import pandas as pd\n",
        "\n",
        "details = {\n",
        "    'cname' : ['a','b','c','d'],\n",
        "    'profit' : [24,25,0,-27],\n",
        "}\n",
        "\n",
        "df = pd.DataFrame(details)\n",
        "\n",
        "df.loc[df.profit <= 0,'profit'] = False\n",
        "df.loc[df.profit > 0,'profit'] = True\n",
        "print(df)\n",
        "\n",
        "#df['profit'] = df['profit'].apply(lambda x:x>0)\n",
        "#print(df)\n"
      ],
      "metadata": {
        "id": "Nvr_6bf2U74l"
      }
    },
    {
      "cell_type": "markdown",
      "source": [
        "26 display first two rows and output them"
      ],
      "metadata": {
        "id": "5CThYjvnWOoi"
      }
    },
    {
      "cell_type": "code",
      "source": [
        "import pandas as pd\n",
        "data=[['java','2000','200'],\n",
        "['cpp','3000','300'],['c','4000','400']]\n",
        "df=pd.DataFrame(data)\n",
        "print(df.head(2))"
      ],
      "metadata": {
        "colab": {
          "base_uri": "https://localhost:8080/"
        },
        "id": "0mKopjEKWOQf",
        "outputId": "0f2dc45b-34f2-4e91-eb3a-89510475b824"
      },
      "execution_count": null,
      "outputs": [
        {
          "output_type": "stream",
          "name": "stdout",
          "text": [
            "      0     1    2\n",
            "0  java  2000  200\n",
            "1   cpp  3000  300\n"
          ]
        }
      ]
    },
    {
      "cell_type": "markdown",
      "source": [
        "27 Given is a dataframe showing name, occupation,\n",
        "   salary of people. Find the average \n",
        "   salary per occupation.\n",
        "\n",
        "\n",
        "\"\"\"\n",
        "\n",
        "\n"
      ],
      "metadata": {
        "id": "OQW9Cpy_XNBX"
      }
    },
    {
      "cell_type": "code",
      "source": [
        "import pandas as pd\n",
        "\n",
        "details = {\n",
        "    'Name' : ['a','b','c','d','e'],\n",
        "    'Occupation' : ['A1','A1','A1','B1','B1'],\n",
        "    'Salary' : [20,30,40,27,23],\n",
        "}\n",
        "  \n",
        "\n",
        "df = pd.DataFrame(details)\n",
        "print(df)\n",
        "occ_average_age = df.groupby('Occupation')['Salary'].mean()\n",
        "print(\"Average salary per occupation : \")\n",
        "print(occ_average_age)\n"
      ],
      "metadata": {
        "colab": {
          "base_uri": "https://localhost:8080/"
        },
        "id": "sKs5sj4qXRDe",
        "outputId": "4cbeb7fa-495d-425e-b38b-ee8e97083f2e"
      },
      "execution_count": null,
      "outputs": [
        {
          "output_type": "stream",
          "name": "stdout",
          "text": [
            "  Name Occupation  Salary\n",
            "0    a         A1      20\n",
            "1    b         A1      30\n",
            "2    c         A1      40\n",
            "3    d         B1      27\n",
            "4    e         B1      23\n",
            "Average salary per occupation : \n",
            "Occupation\n",
            "A1    30.0\n",
            "B1    25.0\n",
            "Name: Salary, dtype: float64\n"
          ]
        }
      ]
    },
    {
      "cell_type": "markdown",
      "source": [
        "\"\"\"\n",
        "28. Given are 2 dataframes, with one dataframe containing Employee ID (eid), Employee \n",
        "Name (ename) and Stipend (stipend) and the other dataframe containing Employee ID \n",
        "(eid) and designation of the employee (designation). Output the Dataframe containing \n",
        "Employee ID (eid), Employee Name (ename), Stipend (stipend) and Position \n",
        "(position).\n",
        "\n",
        "\"\"\"\n",
        "\n",
        "\n"
      ],
      "metadata": {
        "id": "IcZKv9TrVis8"
      }
    },
    {
      "cell_type": "code",
      "source": [
        "import pandas as pd\n",
        "\n",
        "details_1 = {\n",
        "    'eid' : [1,2,3,4],\n",
        "    'ename' : ['a','b','c','d'],\n",
        "    'stipend':[123,131,23,434],\n",
        "}\n",
        "\n",
        "details_2 = {\n",
        "    'eid' : [1,2,3,4],\n",
        "    'designation' : ['aa','bb','cc','dd'],\n",
        "}\n",
        "\n",
        "df_1 = pd.DataFrame(details_1)\n",
        "df_2 = pd.DataFrame(details_2)\n",
        "\n",
        "dataframe = pd.merge(df_1, df_2, how = 'inner', on = 'eid')\n",
        "print(dataframe)\n"
      ],
      "metadata": {
        "colab": {
          "base_uri": "https://localhost:8080/"
        },
        "id": "OHdWYCTYYPsw",
        "outputId": "5fa8d88f-20d1-41bd-c78f-e2312896a6fb"
      },
      "execution_count": null,
      "outputs": [
        {
          "output_type": "stream",
          "name": "stdout",
          "text": [
            "   eid ename  stipend designation\n",
            "0    1     a      123          aa\n",
            "1    2     b      131          bb\n",
            "2    3     c       23          cc\n",
            "3    4     d      434          dd\n"
          ]
        }
      ]
    },
    {
      "cell_type": "markdown",
      "source": [
        "***29. KNN CLASSIFICATION***"
      ],
      "metadata": {
        "id": "fPmec_WoYxU7"
      }
    },
    {
      "cell_type": "code",
      "source": [
        "from sklearn.datasets import load_iris\n",
        "from sklearn.model_selection import train_test_split\n",
        "from sklearn.neighbors import KNeighborsClassifier\n",
        "from sklearn import metrics\n",
        "\n",
        "iris = load_iris()\n",
        "x = iris.data\n",
        "y = iris.target\n",
        "x_train,x_test,y_train,y_test = train_test_split(x,y,test_size=0.3,random_state=1)\n",
        "c_knn = KNeighborsClassifier(n_neighbors=3)\n",
        "c_knn.fit(x_train,y_train)\n",
        "y_pred = c_knn.predict(x_test)\n",
        "print(\"Accuracy : \",metrics.accuracy_score(y_test,y_pred))\n",
        "sample = [[2,2,2,2]]\n",
        "pred = c_knn.predict(sample)\n",
        "pred_v = [iris.target_names[p] for p in pred]\n",
        "print(pred_v)"
      ],
      "metadata": {
        "colab": {
          "base_uri": "https://localhost:8080/"
        },
        "id": "K-AD62z4ZUlN",
        "outputId": "e829c089-cf0d-4c86-b5db-8eb32f8def39"
      },
      "execution_count": null,
      "outputs": [
        {
          "output_type": "stream",
          "name": "stdout",
          "text": [
            "Accuracy :  0.9777777777777777\n",
            "['setosa']\n"
          ]
        }
      ]
    },
    {
      "cell_type": "markdown",
      "source": [
        "30\n",
        "NAIVE BAYES ALGORITHM"
      ],
      "metadata": {
        "id": "tV9_QyVPZlt5"
      }
    },
    {
      "cell_type": "code",
      "source": [
        "from sklearn.datasets import load_iris\n",
        "from sklearn.model_selection import train_test_split\n",
        "from sklearn.naive_bayes import GaussianNB\n",
        "\n",
        "X,y=load_iris(return_X_y=True)\n",
        "X_train,X_test,y_train,y_test=train_test_split(X,y,test_size=0.30,random_state=0)\n",
        "gnb=GaussianNB()\n",
        "y_pred=gnb.fit(X_train,y_train).predict(X_test)\n",
        "print(y_pred)\n",
        "x_new=[[5,5,4,4]]\n",
        "y_new=gnb.fit(X_train,y_train).predict(x_new)\n",
        "from sklearn.metrics import confusion_matrix  \n",
        "cm = confusion_matrix(y_test, y_pred)  \n",
        "print (\"CM\", cm)\n",
        "print(\"\\n\")\n",
        "print(\"predicted output for [[5,5,4,4]]:\",y_new)\n",
        "print(\"Naive bayes score               :\",gnb.score(X_test,y_test))\n"
      ],
      "metadata": {
        "colab": {
          "base_uri": "https://localhost:8080/"
        },
        "id": "2giJK2EOZs_U",
        "outputId": "36394aba-8959-4f47-c938-990ea8a4c93e"
      },
      "execution_count": null,
      "outputs": [
        {
          "output_type": "stream",
          "name": "stdout",
          "text": [
            "[2 1 0 2 0 2 0 1 1 1 2 1 1 1 1 0 1 1 0 0 2 1 0 0 2 0 0 1 1 0 2 1 0 2 2 1 0\n",
            " 1 1 1 2 0 2 0 0]\n",
            "CM [[16  0  0]\n",
            " [ 0 18  0]\n",
            " [ 0  0 11]]\n",
            "\n",
            "\n",
            "predicted output for [[5,5,4,4]]: [2]\n",
            "Naive bayes score               : 1.0\n"
          ]
        }
      ]
    },
    {
      "cell_type": "markdown",
      "source": [
        "31 \n",
        "*DECISION TREE*"
      ],
      "metadata": {
        "id": "GxVuMi45Z2QB"
      }
    },
    {
      "cell_type": "code",
      "source": [
        "from sklearn.datasets import load_iris\n",
        "from sklearn import metrics\n",
        "from sklearn import tree\n",
        "import matplotlib.pyplot as plt\n",
        "from sklearn.model_selection import train_test_split\n",
        "from sklearn.tree import DecisionTreeClassifier\n",
        "\n",
        "iris=load_iris()\n",
        "x=iris.data\n",
        "y=iris.target\n",
        "x_train,x_test,y_train,y_test = train_test_split(x,y,test_size=0.3,random_state=1)\n",
        "\n",
        "clf=DecisionTreeClassifier()\n",
        "clf=clf.fit(x_train,y_train)\n",
        "y_pred=clf.predict(x_test)\n",
        "print(\"Accuracy: \",metrics.accuracy_score(y_test,y_pred))\n",
        "\n",
        "plt.figure(figsize=(15,15))\n",
        "tree.plot_tree(clf,fontsize=10,filled=True,rounded=True,class_names=iris.target_names,feature_names=iris.feature_names)\n",
        "plt.show()\n"
      ],
      "metadata": {
        "colab": {
          "base_uri": "https://localhost:8080/",
          "height": 863
        },
        "id": "zfbABuHZZ0wP",
        "outputId": "42bc96fc-7b6f-40e3-9dea-d7c4403fa6c4"
      },
      "execution_count": null,
      "outputs": [
        {
          "output_type": "stream",
          "name": "stdout",
          "text": [
            "Accuracy:  0.9555555555555556\n"
          ]
        },
        {
          "output_type": "display_data",
          "data": {
            "text/plain": [
              "<Figure size 1080x1080 with 1 Axes>"
            ],
            "image/png": "[encoded data removed]"
          },
          "metadata": {
            "needs_background": "light"
          }
        }
      ]
    },
    {
      "cell_type": "markdown",
      "source": [
        "32.\n",
        "***REGRESSION***"
      ],
      "metadata": {
        "id": "BDCd24OpaHxh"
      }
    },
    {
      "cell_type": "markdown",
      "source": [
        "33**.SUPPORT VECTOR MACHINE SVM**"
      ],
      "metadata": {
        "id": "wly1se5makqd"
      }
    },
    {
      "cell_type": "code",
      "source": [
        "from sklearn.datasets import load_iris\n",
        "from sklearn.model_selection import train_test_split\n",
        "from sklearn import metrics\n",
        "from sklearn.svm import SVC\n",
        "\n",
        "iris = load_iris()\n",
        "x = iris.data\n",
        "y = iris.target\n",
        "x_train,x_test,y_train,y_test = train_test_split(x,y,test_size=0.3,random_state=1)\n",
        "\n",
        "\n",
        "classifier = SVC(kernel='linear', random_state=0)  \n",
        "classifier.fit(x_train, y_train)  \n",
        "y_pred= classifier.predict(x_test)  \n",
        "\n",
        "print(\"Accuracy : \",metrics.accuracy_score(y_test,y_pred))\n",
        "\n",
        "sample = [[1,1,1,2]]\n",
        "pred = classifier.predict(sample)\n",
        "pred_v = [iris.target_names[p] for p in pred]\n",
        "print(pred_v)\n"
      ],
      "metadata": {
        "colab": {
          "base_uri": "https://localhost:8080/"
        },
        "id": "Qpa60ySsaMYu",
        "outputId": "6bf4b241-de0c-431a-939b-e4187a09dd17"
      },
      "execution_count": null,
      "outputs": [
        {
          "output_type": "stream",
          "name": "stdout",
          "text": [
            "Accuracy :  1.0\n",
            "['setosa']\n"
          ]
        }
      ]
    },
    {
      "cell_type": "markdown",
      "source": [
        "34. \n",
        "**K-MEANS CLUSTURING**"
      ],
      "metadata": {
        "id": "snklkPgca62v"
      }
    },
    {
      "cell_type": "code",
      "source": [
        "from sklearn import datasets\n",
        "import matplotlib.pyplot as plt\n",
        "import pandas as pd\n",
        "from sklearn.cluster import KMeans\n",
        "\n",
        "iris = datasets.load_iris()\n",
        "X = iris.data[:, :2]\n",
        "y = iris.target\n",
        "km = KMeans(n_clusters = 3, init='k-means++', n_init=10, max_iter=300, tol=0.0001, verbose=0, random_state=21, copy_x=True, algorithm=\"auto\")\n",
        "km.fit(X)\n",
        "centers = km.cluster_centers_\n",
        "print(centers)\n",
        "new_labels = km.labels_\n",
        "print(new_labels)\n",
        "print(y)"
      ],
      "metadata": {
        "colab": {
          "base_uri": "https://localhost:8080/"
        },
        "id": "p3wfO1BYbcyu",
        "outputId": "d8fcede6-f068-40f6-95db-f5b42e4a151d"
      },
      "execution_count": null,
      "outputs": [
        {
          "output_type": "stream",
          "name": "stdout",
          "text": [
            "[[5.77358491 2.69245283]\n",
            " [5.006      3.428     ]\n",
            " [6.81276596 3.07446809]]\n",
            "[1 1 1 1 1 1 1 1 1 1 1 1 1 1 1 1 1 1 1 1 1 1 1 1 1 1 1 1 1 1 1 1 1 1 1 1 1\n",
            " 1 1 1 1 1 1 1 1 1 1 1 1 1 2 2 2 0 2 0 2 0 2 0 0 0 0 0 0 2 0 0 0 0 0 0 0 0\n",
            " 2 2 2 2 0 0 0 0 0 0 0 0 2 0 0 0 0 0 0 0 0 0 0 0 0 0 2 0 2 2 2 2 0 2 2 2 2\n",
            " 2 2 0 0 2 2 2 2 0 2 0 2 0 2 2 0 0 2 2 2 2 2 0 0 2 2 2 0 2 2 2 0 2 2 2 0 2\n",
            " 2 0]\n",
            "[0 0 0 0 0 0 0 0 0 0 0 0 0 0 0 0 0 0 0 0 0 0 0 0 0 0 0 0 0 0 0 0 0 0 0 0 0\n",
            " 0 0 0 0 0 0 0 0 0 0 0 0 0 1 1 1 1 1 1 1 1 1 1 1 1 1 1 1 1 1 1 1 1 1 1 1 1\n",
            " 1 1 1 1 1 1 1 1 1 1 1 1 1 1 1 1 1 1 1 1 1 1 1 1 1 1 2 2 2 2 2 2 2 2 2 2 2\n",
            " 2 2 2 2 2 2 2 2 2 2 2 2 2 2 2 2 2 2 2 2 2 2 2 2 2 2 2 2 2 2 2 2 2 2 2 2 2\n",
            " 2 2]\n"
          ]
        }
      ]
    },
    {
      "cell_type": "code",
      "source": [
        "from sklearn import datasets\n",
        "import matplotlib.pyplot as plt\n",
        "import pandas as pd\n",
        "from sklearn.cluster import KMeans\n",
        "\n",
        "iris = datasets.load_iris()\n",
        "X = iris.data[:, :2]\n",
        "y = iris.target\n",
        "\n",
        "plt.scatter(X[:,0], X[:,1], c=y, cmap='prism')\n",
        "plt.xlabel('Spea1 Length', fontsize=18)\n",
        "plt.ylabel('Sepal Width', fontsize=18)\n",
        "\n",
        "km = KMeans(n_clusters = 3, init='k-means++', n_init=10, max_iter=300, tol=0.0001, verbose=0, random_state=21, copy_x=True, algorithm=\"auto\")\n",
        "km.fit(X)\n",
        "centers = km.cluster_centers_\n",
        "print(centers)\n",
        "new_labels = km.labels_\n",
        "print(new_labels)\n",
        "print(y)\n",
        "\n",
        "\n",
        "\n",
        "\n",
        "fig, axes = plt.subplots( 1,2, figsize=(16,8))\n",
        "axes[0].scatter(X[:, 0], X[:, 1], c=y, cmap='prism',edgecolor='k', s=75)\n",
        "axes[1].scatter(X[:, 0], X[:, 1], c=new_labels, cmap='jet',edgecolor='k', s=75)\n",
        "axes[0].set_xlabel('Sepal length', fontsize=12)\n",
        "axes[0].set_ylabel('Sepal width', fontsize=12)\n",
        "axes[1].set_xlabel('Sepal length', fontsize=12)\n",
        "axes[1].set_ylabel('Sepal width', fontsize=12)\n",
        "axes[0].tick_params(direction='in', length=10, width=5, colors='k', labelsize=15)\n",
        "axes[1].tick_params(direction='in', length=10, width=5, colors='k', labelsize=15)\n",
        "axes[0].set_title('Actual', fontsize=18)\n",
        "axes[1].set_title('Predicted', fontsize=18)\n"
      ],
      "metadata": {
        "colab": {
          "base_uri": "https://localhost:8080/",
          "height": 988
        },
        "id": "pdmXlinYbAWa",
        "outputId": "2f00e89d-3157-41ec-fbb0-0b99e11a9ad5"
      },
      "execution_count": null,
      "outputs": [
        {
          "output_type": "stream",
          "name": "stdout",
          "text": [
            "[[5.77358491 2.69245283]\n",
            " [5.006      3.428     ]\n",
            " [6.81276596 3.07446809]]\n",
            "[1 1 1 1 1 1 1 1 1 1 1 1 1 1 1 1 1 1 1 1 1 1 1 1 1 1 1 1 1 1 1 1 1 1 1 1 1\n",
            " 1 1 1 1 1 1 1 1 1 1 1 1 1 2 2 2 0 2 0 2 0 2 0 0 0 0 0 0 2 0 0 0 0 0 0 0 0\n",
            " 2 2 2 2 0 0 0 0 0 0 0 0 2 0 0 0 0 0 0 0 0 0 0 0 0 0 2 0 2 2 2 2 0 2 2 2 2\n",
            " 2 2 0 0 2 2 2 2 0 2 0 2 0 2 2 0 0 2 2 2 2 2 0 0 2 2 2 0 2 2 2 0 2 2 2 0 2\n",
            " 2 0]\n",
            "[0 0 0 0 0 0 0 0 0 0 0 0 0 0 0 0 0 0 0 0 0 0 0 0 0 0 0 0 0 0 0 0 0 0 0 0 0\n",
            " 0 0 0 0 0 0 0 0 0 0 0 0 0 1 1 1 1 1 1 1 1 1 1 1 1 1 1 1 1 1 1 1 1 1 1 1 1\n",
            " 1 1 1 1 1 1 1 1 1 1 1 1 1 1 1 1 1 1 1 1 1 1 1 1 1 1 2 2 2 2 2 2 2 2 2 2 2\n",
            " 2 2 2 2 2 2 2 2 2 2 2 2 2 2 2 2 2 2 2 2 2 2 2 2 2 2 2 2 2 2 2 2 2 2 2 2 2\n",
            " 2 2]\n"
          ]
        },
        {
          "output_type": "execute_result",
          "data": {
            "text/plain": [
              "Text(0.5, 1.0, 'Predicted')"
            ]
          },
          "metadata": {},
          "execution_count": 24
        },
        {
          "output_type": "display_data",
          "data": {
            "text/plain": [
              "<Figure size 432x288 with 1 Axes>"
            ],
            "image/png": "[encoded data removed]"
          },
          "metadata": {
            "needs_background": "light"
          }
        },
        {
          "output_type": "display_data",
          "data": {
            "text/plain": [
              "<Figure size 1152x576 with 2 Axes>"
            ],
            "image/png": "[encoded data removed]"
          },
          "metadata": {
            "needs_background": "light"
          }
        }
      ]
    }
  ]
}